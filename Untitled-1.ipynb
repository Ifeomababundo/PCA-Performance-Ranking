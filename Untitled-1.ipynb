{
 "cells": [
  {
   "cell_type": "code",
   "execution_count": 1,
   "metadata": {},
   "outputs": [
    {
     "name": "stdout",
     "output_type": "stream",
     "text": [
      "Requirement already satisfied: pandas in ./anaconda3/lib/python3.11/site-packages (2.0.3)\n",
      "Requirement already satisfied: openpyxl in ./anaconda3/lib/python3.11/site-packages (3.0.10)\n",
      "Requirement already satisfied: scikit-learn in ./anaconda3/lib/python3.11/site-packages (1.3.0)\n",
      "Requirement already satisfied: python-dateutil>=2.8.2 in ./anaconda3/lib/python3.11/site-packages (from pandas) (2.8.2)\n",
      "Requirement already satisfied: pytz>=2020.1 in ./anaconda3/lib/python3.11/site-packages (from pandas) (2023.3.post1)\n",
      "Requirement already satisfied: tzdata>=2022.1 in ./anaconda3/lib/python3.11/site-packages (from pandas) (2023.3)\n",
      "Requirement already satisfied: numpy>=1.21.0 in ./anaconda3/lib/python3.11/site-packages (from pandas) (1.24.3)\n",
      "Requirement already satisfied: et_xmlfile in ./anaconda3/lib/python3.11/site-packages (from openpyxl) (1.1.0)\n",
      "Requirement already satisfied: scipy>=1.5.0 in ./anaconda3/lib/python3.11/site-packages (from scikit-learn) (1.11.1)\n",
      "Requirement already satisfied: joblib>=1.1.1 in ./anaconda3/lib/python3.11/site-packages (from scikit-learn) (1.2.0)\n",
      "Requirement already satisfied: threadpoolctl>=2.0.0 in ./anaconda3/lib/python3.11/site-packages (from scikit-learn) (2.2.0)\n",
      "Requirement already satisfied: six>=1.5 in ./anaconda3/lib/python3.11/site-packages (from python-dateutil>=2.8.2->pandas) (1.16.0)\n",
      "Note: you may need to restart the kernel to use updated packages.\n"
     ]
    }
   ],
   "source": [
    "pip install pandas openpyxl scikit-learn"
   ]
  },
  {
   "cell_type": "code",
   "execution_count": 2,
   "metadata": {},
   "outputs": [],
   "source": [
    "import pandas as pd\n",
    "from sklearn.impute import SimpleImputer\n",
    "from sklearn.preprocessing import StandardScaler\n",
    "from sklearn.decomposition import PCA\n",
    "import numpy as np\n"
   ]
  },
  {
   "cell_type": "code",
   "execution_count": 3,
   "metadata": {},
   "outputs": [],
   "source": [
    "# Step 1: Load the datasets\n",
    "# Assuming CSV conversion has been done\n",
    "performance = pd.read_excel('/Users/ifeoma/Downloads/SCHOOL BOARD PERFORMANCE(18_19).xlsx')\n",
    "funding = pd.read_excel('/Users/ifeoma/Downloads/FUNDING(18_19).xlsx')"
   ]
  },
  {
   "cell_type": "code",
   "execution_count": 4,
   "metadata": {},
   "outputs": [],
   "source": [
    "data = pd.merge(performance, funding, on='Board Name')"
   ]
  },
  {
   "cell_type": "code",
   "execution_count": 5,
   "metadata": {},
   "outputs": [],
   "source": [
    "data['Total Funding'] = data[['Total Funding(2018-2019)', 'Total Funding(2019-2020)', \n",
    "                              'Total Funding(2020-2021)', 'Total Funding(2021-2022)']].sum(axis=1)"
   ]
  },
  {
   "cell_type": "code",
   "execution_count": 6,
   "metadata": {},
   "outputs": [],
   "source": [
    "# Select columns needed for PCA\n",
    "data_for_pca = data[['Graduation Rate 2022','Academic Performance(OSSLT PASS RATE(19/20)', 'Total Funding']]"
   ]
  },
  {
   "cell_type": "code",
   "execution_count": 7,
   "metadata": {},
   "outputs": [],
   "source": [
    "scaler = StandardScaler()\n",
    "data_standardized = scaler.fit_transform(data_for_pca)"
   ]
  },
  {
   "cell_type": "code",
   "execution_count": 8,
   "metadata": {},
   "outputs": [],
   "source": [
    "imputer = SimpleImputer(missing_values=np.nan, strategy='mean')\n",
    "data_imputed = imputer.fit_transform(data_for_pca)\n"
   ]
  },
  {
   "cell_type": "code",
   "execution_count": 9,
   "metadata": {},
   "outputs": [],
   "source": [
    "# Standardize the imputed data\n",
    "scaler = StandardScaler()\n",
    "data_standardized = scaler.fit_transform(data_imputed)"
   ]
  },
  {
   "cell_type": "code",
   "execution_count": 10,
   "metadata": {},
   "outputs": [],
   "source": [
    "# Apply PCA\n",
    "pca = PCA(n_components=1)  # Using 1 component for simplicity\n",
    "principalComponents = pca.fit_transform(data_standardized)"
   ]
  },
  {
   "cell_type": "code",
   "execution_count": 11,
   "metadata": {},
   "outputs": [],
   "source": [
    "\n",
    "# Add PCA results back to the original data frame (ensure it matches the rows after dropna or imputation)\n",
    "data['Composite Score'] = principalComponents"
   ]
  },
  {
   "cell_type": "code",
   "execution_count": 12,
   "metadata": {},
   "outputs": [],
   "source": [
    "# Normalize composite score to a 0-10 scale for ranking\n",
    "data['Normalized Score'] = (data['Composite Score'] - data['Composite Score'].min()) / (data['Composite Score'].max() - data['Composite Score'].min()) * 10"
   ]
  },
  {
   "cell_type": "code",
   "execution_count": 13,
   "metadata": {},
   "outputs": [
    {
     "name": "stdout",
     "output_type": "stream",
     "text": [
      "Superior-Greenstone DSB - 10.0\n",
      "Keewatin-Patricia DSB - 9.9\n",
      "DSB Ontario North East - 8.9\n",
      "Grand Erie DSB - 7.8\n",
      "Algoma DSB - 7.5\n",
      "Kenora CDSB - 7.1\n",
      "Rainbow DSB - 6.8\n",
      "Lambton Kent DSB - 6.4\n",
      "Rainy River DSB - 6.4\n",
      "Near North DSB - 6.4\n",
      "Bluewater DSB - 6.0\n",
      "Lakehead DSB - 5.9\n",
      "Hastings & Prince Edward DSB - 5.8\n",
      "CS public du Nord-Est de l'Ontario - 5.6\n",
      "Northeastern CDSB - 5.6\n",
      "Thames Valley DSB - 5.6\n",
      "Nipissing-Parry Sound CDSB - 5.5\n",
      "Trillium Lakelands DSB - 5.5\n",
      "James Bay Lowlands SSB - 5.0\n",
      "Hamilton-Wentworth DSB - 4.8\n",
      "Greater Essex County DSB - 4.8\n",
      "Thunder Bay CDSB - 4.8\n",
      "Renfrew County DSB - 4.7\n",
      "Limestone DSB - 4.5\n",
      "Avon Maitland DSB - 4.5\n",
      "Upper Canada DSB - 4.3\n",
      "Bruce-Grey CDSB - 4.2\n",
      "Kawartha Pine Ridge DSB - 4.1\n",
      "Renfrew County CDSB - 4.0\n",
      "Simcoe County DSB - 3.8\n",
      "DSB Niagara - 3.7\n",
      "Waterloo Region DSB - 3.7\n",
      "Huron Perth CDSB - 3.7\n",
      "Simcoe Muskoka CDSB - 3.6\n",
      "St Clair CDSB - 3.5\n",
      "Sudbury CDSB - 3.5\n",
      "Upper Grand DSB - 3.5\n",
      "Hamilton-Wentworth CDSB - 3.4\n",
      "CDSB of Eastern Ontario - 3.4\n",
      "Peterborough Victoria Northumberland Clarington CDSB - 3.1\n",
      "Waterloo CDSB - 3.1\n",
      "Huron-Superior CDSB - 3.0\n",
      "London District Catholic School Board - 3.0\n",
      "CS public du Grand Nord de l'Ontario - 2.8\n",
      "Algonquin and Lakeshore CDSB - 2.8\n",
      "Brant Haldimand Norfolk CDSB - 2.7\n",
      "Durham DSB - 2.6\n",
      "Durham CDSB - 2.4\n",
      "CSDC des Grandes Rivières - 2.3\n",
      "CSDC du Nouvel-Ontario - 2.3\n",
      "CSDC Franco-Nord - 2.2\n",
      "Wellington CDSB - 2.2\n",
      "Niagara CDSB - 2.2\n",
      "Ottawa-Carleton DSB - 2.1\n",
      "Halton DSB - 1.9\n",
      "Windsor-Essex CDSB - 1.8\n",
      "Ottawa CDSB - 1.6\n",
      "Dufferin-Peel CDSB - 1.5\n",
      "CSDC des Aurores boréales - 1.4\n",
      "Halton CDSB - 1.4\n",
      "Toronto CDSB - 1.2\n",
      "CS Viamonde - 1.2\n",
      "Peel DSB - 1.1\n",
      "CSDC de l'Est ontarien - 1.1\n",
      "Conseil scolaire catholique Providence - 1.1\n",
      "Toronto DSB - 0.9\n",
      "CÉP de l'Est de l'Ontario - 0.8\n",
      "York CDSB - 0.6\n",
      "CSDC du Centre-Est de l'Ontario - 0.3\n",
      "CS catholique MonAvenir - 0.3\n",
      "York Region DSB - 0.0\n"
     ]
    }
   ],
   "source": [
    "# Sort by 'Normalized Score' to rank school boards\n",
    "data_sorted = data.sort_values(by='Normalized Score', ascending=False)\n",
    "data_sorted[['Board Name', 'Normalized Score']]\n",
    "\n",
    "# Round the 'Normalized Score' to one decimal place\n",
    "data_sorted['Normalized Score'] = data_sorted['Normalized Score'].round(1)\n",
    "\n",
    "# Create a new column to format the results as \"Board Name - Score\"\n",
    "data_sorted['Formatted Ranking'] = data_sorted['Board Name'] + ' - ' + data_sorted['Normalized Score'].astype(str)\n",
    "\n",
    "# Select the 'Formatted Ranking' column to display the results\n",
    "rankings = data_sorted['Formatted Ranking'].tolist()\n",
    "\n",
    "# Display the rankings\n",
    "for ranking in rankings:\n",
    "    print(ranking)\n",
    "\n"
   ]
  },
  {
   "cell_type": "code",
   "execution_count": 14,
   "metadata": {},
   "outputs": [
    {
     "name": "stdout",
     "output_type": "stream",
     "text": [
      "Rankings have been saved to /Users/ifeoma/Desktop/school_board_rankings.xlsx\n"
     ]
    }
   ],
   "source": [
    "import os\n",
    "# Define the file path for the Excel file on your Desktop\n",
    "home_path = os.path.expanduser('~')  # Gets the home directory\n",
    "file_path = os.path.join(home_path, 'Desktop', 'school_board_rankings.xlsx')\n",
    "\n",
    "# Select the columns you want to write to the Excel file\n",
    "data_to_save = data_sorted[['Board Name', 'Normalized Score']]\n",
    "\n",
    "# Write the selected DataFrame to an Excel file\n",
    "data_to_save.to_excel(file_path, index=False, sheet_name='School Board Rankings')\n",
    "\n",
    "print(f\"Rankings have been saved to {file_path}\")"
   ]
  },
  {
   "cell_type": "code",
   "execution_count": null,
   "metadata": {},
   "outputs": [],
   "source": []
  }
 ],
 "metadata": {
  "kernelspec": {
   "display_name": "Python 3.11.5 ('base')",
   "language": "python",
   "name": "python3"
  },
  "language_info": {
   "codemirror_mode": {
    "name": "ipython",
    "version": 3
   },
   "file_extension": ".py",
   "mimetype": "text/x-python",
   "name": "python",
   "nbconvert_exporter": "python",
   "pygments_lexer": "ipython3",
   "version": "3.11.5"
  },
  "orig_nbformat": 4,
  "vscode": {
   "interpreter": {
    "hash": "96c4aa151309c58ac85a1eee5162741b892a38e38bc247e12228c638f88f2676"
   }
  }
 },
 "nbformat": 4,
 "nbformat_minor": 2
}
