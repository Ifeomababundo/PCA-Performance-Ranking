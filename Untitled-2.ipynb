{
 "cells": [
  {
   "cell_type": "code",
   "execution_count": 98,
   "metadata": {},
   "outputs": [],
   "source": [
    "import pandas as pd\n",
    "from sklearn.impute import SimpleImputer\n",
    "from sklearn.preprocessing import StandardScaler\n",
    "from sklearn.decomposition import PCA\n",
    "import numpy as np"
   ]
  },
  {
   "cell_type": "code",
   "execution_count": 99,
   "metadata": {},
   "outputs": [],
   "source": [
    "# Step 1: Load the datasets\n",
    "# Assuming CSV conversion has been done\n",
    "performance18 = pd.read_excel('/Users/ifeoma/Downloads/SCHOOL BOARD PERFORMANCE(17_18).xlsx')\n",
    "funding18 = pd.read_excel('/Users/ifeoma/Downloads/FUNDING(17_18).xlsx')"
   ]
  },
  {
   "cell_type": "code",
   "execution_count": 100,
   "metadata": {},
   "outputs": [],
   "source": [
    "data = pd.merge(performance18, funding18, on='Board Name')"
   ]
  },
  {
   "cell_type": "code",
   "execution_count": 101,
   "metadata": {},
   "outputs": [],
   "source": [
    "data['Total Funding'] = data[['Total Funding(2017-2018)', 'Total Funding(2018-2019)', \n",
    "                              'Total Funding(2019-2020)', 'Total Funding(2020-2021)']].sum(axis=1)"
   ]
  },
  {
   "cell_type": "code",
   "execution_count": 102,
   "metadata": {},
   "outputs": [],
   "source": [
    "# Select columns needed for PCA\n",
    "data_for_pca = data[['Graduation(2021)','Academic Performance(OSSLT PASS RATE(18/19)', 'Total Funding']]"
   ]
  },
  {
   "cell_type": "code",
   "execution_count": 103,
   "metadata": {},
   "outputs": [],
   "source": [
    "scaler = StandardScaler()\n",
    "data_standardized = scaler.fit_transform(data_for_pca)"
   ]
  },
  {
   "cell_type": "code",
   "execution_count": 104,
   "metadata": {},
   "outputs": [],
   "source": [
    "imputer = SimpleImputer(missing_values=np.nan, strategy='mean')\n",
    "data_imputed = imputer.fit_transform(data_for_pca)"
   ]
  },
  {
   "cell_type": "code",
   "execution_count": 105,
   "metadata": {},
   "outputs": [],
   "source": [
    "# Standardize the imputed data\n",
    "scaler = StandardScaler()\n",
    "data_standardized = scaler.fit_transform(data_imputed)"
   ]
  },
  {
   "cell_type": "code",
   "execution_count": 106,
   "metadata": {},
   "outputs": [],
   "source": [
    "# Apply PCA\n",
    "pca = PCA(n_components=1)  # Using 1 component for simplicity\n",
    "principalComponents = pca.fit_transform(data_standardized)"
   ]
  },
  {
   "cell_type": "code",
   "execution_count": 107,
   "metadata": {},
   "outputs": [],
   "source": [
    "\n",
    "# Add PCA results back to the original data frame (ensure it matches the rows after dropna or imputation)\n",
    "data['Composite Score'] = principalComponents"
   ]
  },
  {
   "cell_type": "code",
   "execution_count": 108,
   "metadata": {},
   "outputs": [],
   "source": [
    "# Normalize composite score to a 0-10 scale for ranking\n",
    "data['Normalized Score'] = (data['Composite Score'] - data['Composite Score'].min()) / (data['Composite Score'].max() - data['Composite Score'].min()) * 10"
   ]
  },
  {
   "cell_type": "code",
   "execution_count": 109,
   "metadata": {},
   "outputs": [
    {
     "name": "stdout",
     "output_type": "stream",
     "text": [
      "Keewatin-Patricia DSB - 10.0\n",
      "Superior-Greenstone DSB - 9.5\n",
      "DSB Ontario North East - 8.9\n",
      "Grand Erie DSB - 8.3\n",
      "Algoma DSB - 6.8\n",
      "Near North DSB - 6.7\n",
      "Rainbow DSB - 6.5\n",
      "Northeastern CDSB - 6.4\n",
      "Hastings & Prince Edward DSB - 6.3\n",
      "Rainy River DSB - 6.1\n",
      "Lambton Kent DSB - 5.9\n",
      "Thames Valley DSB - 5.8\n",
      "Kenora CDSB - 5.7\n",
      "Bluewater DSB - 5.6\n",
      "Hamilton-Wentworth DSB - 5.4\n",
      "Trillium Lakelands DSB - 5.3\n",
      "Lakehead DSB - 5.3\n",
      "CS public du Nord-Est de l'Ontario - 5.2\n",
      "Renfrew County DSB - 5.1\n",
      "Greater Essex County DSB - 5.0\n",
      "James Bay Lowlands SSB - 4.9\n",
      "Nipissing-Parry Sound CDSB - 4.5\n",
      "Thunder Bay CDSB - 4.5\n",
      "Upper Canada DSB - 4.4\n",
      "Limestone DSB - 4.3\n",
      "Kawartha Pine Ridge DSB - 4.2\n",
      "Avon Maitland DSB - 4.1\n",
      "Bruce-Grey CDSB - 3.8\n",
      "Waterloo Region DSB - 3.8\n",
      "Huron Perth CDSB - 3.7\n",
      "DSB Niagara - 3.6\n",
      "Simcoe County DSB - 3.6\n",
      "Renfrew County CDSB - 3.5\n",
      "Upper Grand DSB - 3.5\n",
      "Waterloo CDSB - 3.4\n",
      "St Clair CDSB - 3.4\n",
      "Simcoe Muskoka CDSB - 3.4\n",
      "Hamilton-Wentworth CDSB - 3.3\n",
      "CDSB of Eastern Ontario - 3.3\n",
      "Peterborough Victoria Northumberland Clarington CDSB - 3.3\n",
      "Huron-Superior CDSB - 3.3\n",
      "CS public du Grand Nord de l'Ontario - 3.3\n",
      "Brant Haldimand Norfolk CDSB - 3.2\n",
      "Sudbury CDSB - 2.9\n",
      "Durham DSB - 2.8\n",
      "CSDC des Grandes Rivières - 2.7\n",
      "Algonquin and Lakeshore CDSB - 2.5\n",
      "London District Catholic School Board - 2.4\n",
      "Durham CDSB - 2.3\n",
      "Wellington CDSB - 2.2\n",
      "CSDC du Nouvel-Ontario - 2.1\n",
      "Halton DSB - 1.9\n",
      "Ottawa-Carleton DSB - 1.9\n",
      "CSDC Franco-Nord - 1.8\n",
      "Niagara CDSB - 1.8\n",
      "Toronto DSB - 1.6\n",
      "Ottawa CDSB - 1.5\n",
      "Windsor-Essex CDSB - 1.4\n",
      "Dufferin-Peel CDSB - 1.3\n",
      "Peel DSB - 1.3\n",
      "Halton CDSB - 1.2\n",
      "Toronto CDSB - 1.2\n",
      "CSDC de l'Est ontarien - 1.0\n",
      "CS Viamonde - 1.0\n",
      "York CDSB - 0.5\n",
      "Conseil scolaire catholique Providence - 0.5\n",
      "CSDC des Aurores boréales - 0.3\n",
      "CÉP de l'Est de l'Ontario - 0.2\n",
      "York Region DSB - 0.1\n",
      "CSDC du Centre-Est de l'Ontario - 0.1\n",
      "CS catholique MonAvenir - 0.0\n"
     ]
    }
   ],
   "source": [
    "# Sort by 'Normalized Score' to rank school boards\n",
    "data_sorted = data.sort_values(by='Normalized Score', ascending=False)\n",
    "data_sorted[['Board Name', 'Normalized Score']]\n",
    "\n",
    "# Round the 'Normalized Score' to one decimal place\n",
    "data_sorted['Normalized Score'] = data_sorted['Normalized Score'].round(1)\n",
    "\n",
    "# Create a new column to format the results as \"Board Name - Score\"\n",
    "data_sorted['Formatted Ranking'] = data_sorted['Board Name'] + ' - ' + data_sorted['Normalized Score'].astype(str)\n",
    "\n",
    "# Select the 'Formatted Ranking' column to display the results\n",
    "rankings = data_sorted['Formatted Ranking'].tolist()\n",
    "\n",
    "# Display the rankings\n",
    "for ranking in rankings:\n",
    "    print(ranking)\n"
   ]
  },
  {
   "cell_type": "code",
   "execution_count": 110,
   "metadata": {},
   "outputs": [
    {
     "name": "stdout",
     "output_type": "stream",
     "text": [
      "Rankings have been saved to /Users/ifeoma/Desktop/school_board_rankings.xlsx\n"
     ]
    }
   ],
   "source": [
    "import os\n",
    "# Define the file path for the Excel file on your Desktop\n",
    "home_path = os.path.expanduser('~')  # Gets the home directory\n",
    "file_path = os.path.join(home_path, 'Desktop', 'school_board_rankings.xlsx')\n",
    "\n",
    "# Select the columns you want to write to the Excel file\n",
    "data_to_save = data_sorted[['Board Name', 'Normalized Score']]\n",
    "\n",
    "# Write the selected DataFrame to an Excel file\n",
    "data_to_save.to_excel(file_path, index=False, sheet_name='School Board Rankings')\n",
    "\n",
    "print(f\"Rankings have been saved to {file_path}\")"
   ]
  }
 ],
 "metadata": {
  "kernelspec": {
   "display_name": "Python 3.9.6 64-bit",
   "language": "python",
   "name": "python3"
  },
  "language_info": {
   "codemirror_mode": {
    "name": "ipython",
    "version": 3
   },
   "file_extension": ".py",
   "mimetype": "text/x-python",
   "name": "python",
   "nbconvert_exporter": "python",
   "pygments_lexer": "ipython3",
   "version": "3.9.6"
  },
  "orig_nbformat": 4,
  "vscode": {
   "interpreter": {
    "hash": "31f2aee4e71d21fbe5cf8b01ff0e069b9275f58929596ceb00d14d90e3e16cd6"
   }
  }
 },
 "nbformat": 4,
 "nbformat_minor": 2
}
